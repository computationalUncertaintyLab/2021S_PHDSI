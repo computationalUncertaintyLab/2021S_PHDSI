{
 "cells": [
  {
   "cell_type": "code",
   "execution_count": null,
   "metadata": {},
   "outputs": [],
   "source": [
    "import numpy as np\n",
    "import matplotlib.pyplot as plt\n",
    "import scipy.stats"
   ]
  },
  {
   "cell_type": "markdown",
   "metadata": {},
   "source": [
    "### Take Home Quiz02 (Due 2021-04-02)\n",
    "The below code defines a list of the cumulative confirmed cases of COVID-19 at Lehigh university from Aug, 10th 2020 to Dec 28th, 2020, and a separate list of the the number of new cases (incident) per week during the same time period."
   ]
  },
  {
   "cell_type": "markdown",
   "metadata": {},
   "source": [
    "### Step 1: Run the below code block to store `cumulNumCases` and `incidentCases`"
   ]
  },
  {
   "cell_type": "code",
   "execution_count": null,
   "metadata": {},
   "outputs": [],
   "source": [
    "cumulativeNumberOfPostiveCases = [7,9,9,12,12,12,12,19,57,66,66,78,78,101,241,241,245,245,247,247]\n",
    "incidentCases = np.array( cumulativeNumberOfPostiveCases )\n",
    "incidentCases = np.diff(incidentCases)"
   ]
  },
  {
   "cell_type": "markdown",
   "metadata": {},
   "source": [
    "### A random variable to desribe the number of new cases of COVID-19\n",
    "\n",
    "Our goal is to characterize the number of incident (new) COVID-19 cases per week at Lehigh University. \n",
    "The poisson distribution can be used to describe the number/frequency of events within a time period, and we can use a poisson distribution to quantify the probability of incident cases in future weeks at LU (given data from 2020). "
   ]
  },
  {
   "cell_type": "markdown",
   "metadata": {},
   "source": [
    "### Compute the average number of cases and store the average in a variable called `avgCases`\n",
    "You can use the np.mean function. "
   ]
  },
  {
   "cell_type": "code",
   "execution_count": null,
   "metadata": {},
   "outputs": [],
   "source": []
  },
  {
   "cell_type": "markdown",
   "metadata": {},
   "source": [
    "### Generate a poisson random variable with parameter equal to the `avgCases` per week from scipy and store it in a variable called `casesRV`\n",
    "You can use the `scipy.stats.poisson(avgCases)` function to do this."
   ]
  },
  {
   "cell_type": "code",
   "execution_count": null,
   "metadata": {},
   "outputs": [],
   "source": []
  },
  {
   "cell_type": "markdown",
   "metadata": {},
   "source": [
    "### Plotting the probability mass function\n",
    "The poisson function takes values from 0 to infinity.\n",
    "- Step 1: Generate a list from 0 to 30 using np.arange\n",
    "- Step 2: Plot the Probability mass function\n",
    "    Step 2A: Compute the probability the poisson random variable assigns to cases from 0 to 30 using casesRV.pmf\n",
    "    Step 2B: plot the cases from 0 to 30 on the horizontal axis and corresponding probabilitie on the vertical axis\n",
    "- Step 3: Label the x-axis \"Incident cases\"\n",
    "- Step 4: Label the y-axis \"Probability\"\n",
    "- Step 5: Set the y-ticks to values from 0 to 0.16 by 0.02\n",
    "- Step 6: Label the plot by including the argument label = \"Poisson r.v. estimated from LU case data\" to the plot function\n",
    "- Step 7: Add a legend using the code `ax.legend()`"
   ]
  },
  {
   "cell_type": "code",
   "execution_count": null,
   "metadata": {},
   "outputs": [],
   "source": []
  }
 ],
 "metadata": {
  "kernelspec": {
   "display_name": "Python 3",
   "language": "python",
   "name": "python3"
  },
  "language_info": {
   "codemirror_mode": {
    "name": "ipython",
    "version": 3
   },
   "file_extension": ".py",
   "mimetype": "text/x-python",
   "name": "python",
   "nbconvert_exporter": "python",
   "pygments_lexer": "ipython3",
   "version": "3.9.1"
  }
 },
 "nbformat": 4,
 "nbformat_minor": 4
}
