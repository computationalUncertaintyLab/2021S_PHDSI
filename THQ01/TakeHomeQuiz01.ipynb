{
 "cells": [
  {
   "cell_type": "markdown",
   "metadata": {},
   "source": [
    "# Take Home Quiz 01\n",
    "## Due 2021-03-08\n",
    "\n",
    "As a reminder, a take home quiz cannot be worked on with a classmate.\n",
    "A take home quiz is your own work. \n",
    "You may speak with prof m, or any TAs to ask clarifying questions. \n",
    "A take home quiz is submitted to course site in the same way as homeworks. \n",
    "Please visit the class [course site](https://coursesite.lehigh.edu/) to submit your work. "
   ]
  },
  {
   "cell_type": "markdown",
   "metadata": {},
   "source": [
    "#### Q01\n",
    "Please define a function called `average` that computes the mean (average) of a list of values. \n",
    "The function (below) you create should return `AVG` which is the mean (average) of the list. "
   ]
  },
  {
   "cell_type": "code",
   "execution_count": null,
   "metadata": {},
   "outputs": [],
   "source": [
    "def average(L):\n",
    "    # Your code here\n",
    "    return AVG"
   ]
  },
  {
   "cell_type": "markdown",
   "metadata": {},
   "source": [
    "#### Q02 \n",
    "Please use the function you defined above to compute the average of the below list of 6 integers and store it in a variable called `listAverage`.\n",
    "\n",
    "Print the variable `listAverage`"
   ]
  },
  {
   "cell_type": "code",
   "execution_count": null,
   "metadata": {},
   "outputs": [],
   "source": [
    "data = [1,-1,40,-40,80,-80]"
   ]
  },
  {
   "cell_type": "markdown",
   "metadata": {},
   "source": [
    "Please download your Jupyter Notebook as a PDF and submit to course site. "
   ]
  }
 ],
 "metadata": {
  "kernelspec": {
   "display_name": "Python 3",
   "language": "python",
   "name": "python3"
  },
  "language_info": {
   "codemirror_mode": {
    "name": "ipython",
    "version": 3
   },
   "file_extension": ".py",
   "mimetype": "text/x-python",
   "name": "python",
   "nbconvert_exporter": "python",
   "pygments_lexer": "ipython3",
   "version": "3.9.1"
  }
 },
 "nbformat": 4,
 "nbformat_minor": 4
}
